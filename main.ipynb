{
 "cells": [
  {
   "cell_type": "markdown",
   "id": "c5528035",
   "metadata": {},
   "source": [
    "## LAB #5\n",
    "\n",
    "- Derek Arreaga - 22537\n",
    "- Mónica Salvatierra\n",
    "\n",
    "Link del repositorio: https://github.com/alee2602/LAB5-DS\n",
    "\n"
   ]
  },
  {
   "cell_type": "markdown",
   "id": "3fbf2022",
   "metadata": {},
   "source": [
    "## Importación de Librerías"
   ]
  },
  {
   "cell_type": "code",
   "execution_count": 1,
   "id": "9d4786b0",
   "metadata": {},
   "outputs": [
    {
     "ename": "ModuleNotFoundError",
     "evalue": "No module named 'pandas_datareader'",
     "output_type": "error",
     "traceback": [
      "\u001b[1;31m---------------------------------------------------------------------------\u001b[0m",
      "\u001b[1;31mModuleNotFoundError\u001b[0m                       Traceback (most recent call last)",
      "Cell \u001b[1;32mIn[1], line 9\u001b[0m\n\u001b[0;32m      6\u001b[0m \u001b[38;5;28;01mimport\u001b[39;00m\u001b[38;5;250m \u001b[39m\u001b[38;5;21;01mmatplotlib\u001b[39;00m\u001b[38;5;21;01m.\u001b[39;00m\u001b[38;5;21;01mpyplot\u001b[39;00m\u001b[38;5;250m \u001b[39m\u001b[38;5;28;01mas\u001b[39;00m\u001b[38;5;250m \u001b[39m\u001b[38;5;21;01mplt\u001b[39;00m\n\u001b[0;32m      8\u001b[0m \u001b[38;5;28;01mfrom\u001b[39;00m\u001b[38;5;250m \u001b[39m\u001b[38;5;21;01mdatetime\u001b[39;00m\u001b[38;5;250m \u001b[39m\u001b[38;5;28;01mimport\u001b[39;00m datetime\n\u001b[1;32m----> 9\u001b[0m \u001b[38;5;28;01mfrom\u001b[39;00m\u001b[38;5;250m \u001b[39m\u001b[38;5;21;01mpandas_datareader\u001b[39;00m\u001b[38;5;250m \u001b[39m\u001b[38;5;28;01mimport\u001b[39;00m data \u001b[38;5;28;01mas\u001b[39;00m pdr\n\u001b[0;32m     11\u001b[0m \u001b[38;5;28;01mfrom\u001b[39;00m\u001b[38;5;250m \u001b[39m\u001b[38;5;21;01msklearn\u001b[39;00m\u001b[38;5;21;01m.\u001b[39;00m\u001b[38;5;21;01mpreprocessing\u001b[39;00m\u001b[38;5;250m \u001b[39m\u001b[38;5;28;01mimport\u001b[39;00m MinMaxScaler\n\u001b[0;32m     12\u001b[0m \u001b[38;5;28;01mfrom\u001b[39;00m\u001b[38;5;250m \u001b[39m\u001b[38;5;21;01msklearn\u001b[39;00m\u001b[38;5;21;01m.\u001b[39;00m\u001b[38;5;21;01mmetrics\u001b[39;00m\u001b[38;5;250m \u001b[39m\u001b[38;5;28;01mimport\u001b[39;00m mean_absolute_error, mean_squared_error\n",
      "\u001b[1;31mModuleNotFoundError\u001b[0m: No module named 'pandas_datareader'"
     ]
    }
   ],
   "source": [
    "\n",
    "import os, sys, math, warnings, json, random\n",
    "warnings.filterwarnings(\"ignore\")\n",
    "\n",
    "import numpy as np\n",
    "import pandas as pd\n",
    "import matplotlib.pyplot as plt\n",
    "\n",
    "from datetime import datetime\n",
    "from pandas_datareader import data as pdr\n",
    "\n",
    "from sklearn.preprocessing import MinMaxScaler\n",
    "from sklearn.metrics import mean_absolute_error, mean_squared_error\n",
    "\n",
    "import tensorflow as tf\n",
    "from tensorflow.keras import layers, models, callbacks\n",
    "from tensorflow.keras.preprocessing.sequence import TimeseriesGenerator\n",
    "\n",
    "# Semillas para reproducibilidad\n",
    "SEED = 8\n",
    "random.seed(SEED)\n",
    "np.random.seed(SEED)\n",
    "tf.random.set_seed(SEED)\n",
    "\n",
    "print(tf.__version__)\n"
   ]
  },
  {
   "cell_type": "markdown",
   "id": "ca4e2fd1",
   "metadata": {},
   "source": [
    "## 1. Carga y exploración de datos"
   ]
  },
  {
   "cell_type": "code",
   "execution_count": null,
   "id": "084cbd1c",
   "metadata": {},
   "outputs": [],
   "source": [
    "SERIE = \"IPN31152N\"  # Ice cream & frozen dessert production index (2012=100, mensual, NSA)\n",
    "START = \"1985-01-01\" # fecha inicial amplia para historia\n",
    "END   = None         # hasta hoy\n",
    "\n",
    "def load_fred_series(serie=SERIE, start=START, end=END):\n",
    "    try:\n",
    "        df = pdr.DataReader(serie, \"fred\", start=start, end=end)\n",
    "        df = df.rename(columns={serie: \"value\"})\n",
    "        df.index.name = \"date\"\n",
    "        print(f\"Descarga exitosa desde FRED: {serie}  |  filas={len(df)}  rango={df.index.min().date()}..{df.index.max().date()}\")\n",
    "        return df\n",
    "    except Exception as e:\n",
    "        print(\"No se pudo descargar desde FRED. Intentando CSV local...\", e)\n",
    "        # CSV de respaldo en el mismo folder del notebook\n",
    "        local = f\"./{serie}.csv\"\n",
    "        if not os.path.exists(local):\n",
    "            raise FileNotFoundError(f\"No hay internet ni archivo local '{local}'. Coloca un CSV con columnas DATE,VALUE.\")\n",
    "        df = pd.read_csv(local)\n",
    "        # normaliza columnas\n",
    "        cols = {c.lower(): c for c in df.columns}\n",
    "        date_col = cols.get(\"date\", None)\n",
    "        value_col = cols.get(\"value\", None)\n",
    "        if date_col is None or value_col is None:\n",
    "\n",
    "            date_col = \"DATE\" if \"DATE\" in df.columns else list(df.columns)[0]\n",
    "            value_col = \"VALUE\" if \"VALUE\" in df.columns else list(df.columns)[1]\n",
    "        df = df.rename(columns={date_col: \"date\", value_col: \"value\"})\n",
    "        df[\"date\"] = pd.to_datetime(df[\"date\"])\n",
    "        df = df.set_index(\"date\").sort_index()\n",
    "        print(f\"Carga local desde CSV: {local} | filas={len(df)}  rango={df.index.min().date()}..{df.index.max().date()}\")\n",
    "        return df\n",
    "\n",
    "df = load_fred_series()\n",
    "display(df.head(3))\n",
    "display(df.tail(3))\n",
    "\n",
    "\n",
    "print(df.describe().T)\n",
    "print(\"\\nFrecuencia inferida:\", pd.infer_freq(df.index))\n",
    "\n",
    "\n",
    "plt.figure(figsize=(10,4))\n",
    "plt.plot(df.index, df[\"value\"], lw=1.5)\n",
    "plt.title(\"Producción industrial: helados y postres congelados (Índice 2012=100, mensual, NSA)\")\n",
    "plt.xlabel(\"Fecha\"); plt.ylabel(\"Índice\")\n",
    "plt.grid(True, alpha=0.3)\n",
    "plt.show()\n"
   ]
  }
 ],
 "metadata": {
  "kernelspec": {
   "display_name": "seq2seq_py39",
   "language": "python",
   "name": "python3"
  },
  "language_info": {
   "codemirror_mode": {
    "name": "ipython",
    "version": 3
   },
   "file_extension": ".py",
   "mimetype": "text/x-python",
   "name": "python",
   "nbconvert_exporter": "python",
   "pygments_lexer": "ipython3",
   "version": "3.9.23"
  }
 },
 "nbformat": 4,
 "nbformat_minor": 5
}
